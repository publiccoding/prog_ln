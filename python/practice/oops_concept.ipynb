{
 "cells": [
  {
   "cell_type": "code",
   "execution_count": 15,
   "metadata": {},
   "outputs": [
    {
     "name": "stdout",
     "output_type": "stream",
     "text": [
      "object is garbage collected\n",
      "object is garbage collected\n",
      "YOu have entered the 20\n",
      "YOu have entered the 20\n",
      "40\n",
      "20 20\n",
      "Both are equal\n"
     ]
    }
   ],
   "source": [
    "class Car:\n",
    "    def __init__(self,val):\n",
    "        self.val = val \n",
    "               \n",
    "    def drive(self):\n",
    "        print(\"YOu have entered the\",self.val)\n",
    "        \n",
    "    def __add__(self,other):\n",
    "        return self.val + other.val\n",
    "    \n",
    "    def __del__(self):\n",
    "        print(\"object is garbage collected\")\n",
    "    \n",
    "    def __eq__(self, other):\n",
    "        return self.val == other.val \n",
    "    \n",
    "    def __gt__(self, other):\n",
    "        return self.val > other.val\n",
    "    \n",
    "    \n",
    "    \n",
    "c1=Car(20)\n",
    "c2=Car(20)\n",
    "\n",
    "c1.drive()\n",
    "c2.drive()\n",
    "\n",
    "print(c1+c2)\n",
    "print(c1.val,c2.val)\n",
    "\n",
    "if c1 == c2:\n",
    "    print(\"Both are equal\")\n",
    "elif c1 > c2:\n",
    "    print(\"C1  is bigger\")\n",
    "else:\n",
    "    print(\"C2 is bigger\")\n",
    "\n"
   ]
  },
  {
   "cell_type": "code",
   "execution_count": 18,
   "metadata": {},
   "outputs": [
    {
     "data": {
      "text/plain": [
       "True"
      ]
     },
     "execution_count": 18,
     "metadata": {},
     "output_type": "execute_result"
    }
   ],
   "source": [
    "a='sdfsdf'\n",
    "hash(a)\n",
    "class Car:\n",
    "    pass\n",
    "c= Car()\n",
    "bool(c)"
   ]
  },
  {
   "cell_type": "code",
   "execution_count": 19,
   "metadata": {},
   "outputs": [
    {
     "ename": "ModuleNotFoundError",
     "evalue": "No module named 'tensorflow'",
     "output_type": "error",
     "traceback": [
      "\u001b[1;31m---------------------------------------------------------------------------\u001b[0m",
      "\u001b[1;31mModuleNotFoundError\u001b[0m                       Traceback (most recent call last)",
      "\u001b[1;32m<ipython-input-19-64156d691fe5>\u001b[0m in \u001b[0;36m<module>\u001b[1;34m()\u001b[0m\n\u001b[1;32m----> 1\u001b[1;33m \u001b[1;32mimport\u001b[0m \u001b[0mtensorflow\u001b[0m \u001b[1;32mas\u001b[0m \u001b[0mtf\u001b[0m\u001b[1;33m\u001b[0m\u001b[0m\n\u001b[0m",
      "\u001b[1;31mModuleNotFoundError\u001b[0m: No module named 'tensorflow'"
     ]
    }
   ],
   "source": [
    "import tensorflow as tf"
   ]
  },
  {
   "cell_type": "code",
   "execution_count": null,
   "metadata": {},
   "outputs": [],
   "source": []
  }
 ],
 "metadata": {
  "kernelspec": {
   "display_name": "Python 3",
   "language": "python",
   "name": "python3"
  },
  "language_info": {
   "codemirror_mode": {
    "name": "ipython",
    "version": 3
   },
   "file_extension": ".py",
   "mimetype": "text/x-python",
   "name": "python",
   "nbconvert_exporter": "python",
   "pygments_lexer": "ipython3",
   "version": "3.6.4"
  }
 },
 "nbformat": 4,
 "nbformat_minor": 2
}
