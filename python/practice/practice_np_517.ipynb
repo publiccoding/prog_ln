{
 "cells": [
  {
   "cell_type": "code",
   "execution_count": 20,
   "metadata": {},
   "outputs": [
    {
     "name": "stdout",
     "output_type": "stream",
     "text": [
      "[0. 0. 0.]\n",
      "[1. 1. 1.]\n",
      "[6. 4. 9.]\n",
      "6.0\n",
      "6.0\n",
      "2.0\n",
      "0.6666666666666666\n",
      "0.816496580927726\n",
      "1.0\n",
      "3.0\n"
     ]
    }
   ],
   "source": [
    "import numpy as np\n",
    "\n",
    "x=np.arange(1,26).reshape(5,5)\n",
    "#print(x)\n",
    "#flatten -> Return a copy of the array collapsed into one dimension.\n",
    "# print(x.flat[24])\n",
    "# print(x.T)\n",
    "# x.flat=3; print(x)\n",
    "# x.flat[[1,4]]=1; print(x)\n",
    "# print(x[0,1])\n",
    "# print(x[1:4,0:3])\n",
    "# print(x.shape)\n",
    "# print(x.dtype)\n",
    "# print(len(x))\n",
    "# print(x.size) # total size arry \n",
    "# print(x.itemsize) # size of one array element\n",
    "#print(x.tostring())\n",
    "#print(np.fromstring(s))\n",
    "# print(np.fromstring('1 2 3', dtype=int, sep=' '))\n",
    "#print(np.fromstring(b'\\x01\\x00\\x00\\x00\\x02\\x00\\x00\\x00\\x03\\x00\\x00\\x00\\x04\\x00\\x00\\x00\\x05\\x00\\x00\\x00\\x06\\x00\\x00\\x00\\x07\\x00\\x00\\x00\\x08\\x00\\x00\\x00\\t\\x00\\x00\\x00\\n\\x00\\x00\\x00\\x0b\\x00\\x00\\x00\\x0c\\x00\\x00\\x00\\r\\x00\\x00\\x00\\x0e\\x00\\x00\\x00\\x0f\\x00\\x00\\x00\\x10\\x00\\x00\\x00\\x11\\x00\\x00\\x00\\x12\\x00\\x00\\x00\\x13\\x00\\x00\\x00\\x14\\x00\\x00\\x00\\x15\\x00\\x00\\x00\\x16\\x00\\x00\\x00\\x17\\x00\\x00\\x00\\x18\\x00\\x00\\x00\\x19\\x00\\x00\\x00'))\n",
    "# x = np.sqrt([1+0j, 0+1j])\n",
    "# print(x)\n",
    "# print(x.imag)\n",
    "# print(np.zeros((2,5,2)))\n",
    "# print(np.prod(x.shape) * x.itemsize)\n",
    "# print(x.ndim)\n",
    "# print(np.zeros((2,3,4)).ndim)\n",
    "# print()\n",
    "\n",
    "# print(np.reshape(np.arange(2*3*4),(2,3,4)))\n",
    "# print(np.reshape(np.arange(3*3*4),(3,3,4)))\n",
    "#print(np.reshape(np.arange(2*4*5),(2,4,5)).strides) # gives the memory size need for next element in row and each el\n",
    "#print(np.reshape(np.arange(3*4),(3,4)))\n",
    "#print(np.reshape(np.arange(2*3),(2,3)))\n",
    "#print(np.reshape(np.arange(2*3),(2,3)).strides)\n",
    "#print(np.array([[0, 1, 2, 3, 4],[5, 6, 7, 8, 9]], dtype=np.int32))\n",
    "# print(np.identity(4, dtype=float))\n",
    "# print(np.eye(4, k=2, dtype=float))\n",
    "# print(x.transpose())\n",
    "# x.fill(0) ; print(x)\n",
    "# print(x)\n",
    "# print(x.cumsum(axis=0))\n",
    "# print(np.ones((2,3), dtype=float))\n",
    "# print(np.zeros(7, dtype=int))\n",
    "# a = np.array([[1, 2, 3], [4, 5, 6]], float)\n",
    "# print(np.zeros_like(a))\n",
    "# print(np.ones_like(a))\n",
    "# a = np.array([1,2,3], float) \n",
    "# b = np.array([5,2,6], float)\n",
    "# print(a + b)\n",
    "# print(a.sum())\n",
    "# print(a.prod())\n",
    "# print(a.mean())\n",
    "# print(a.var())\n",
    "# print(a.std())\n",
    "# print(a.min())\n",
    "# print(a.max())\n",
    "\n"
   ]
  },
  {
   "cell_type": "code",
   "execution_count": 54,
   "metadata": {},
   "outputs": [
    {
     "name": "stdout",
     "output_type": "stream",
     "text": [
      "[[2. 2. 1.]\n",
      " [8. 8. 4.]\n",
      " [0. 0. 0.]]\n",
      "10.0\n",
      "[ 4. -1. -6.]\n"
     ]
    }
   ],
   "source": [
    "# a = np.array([6,6, 2, 5,4, 4, -1, 0], float)\n",
    "# a.sort();print(a)\n",
    "# print(sorted(a))\n",
    "# print(a.clip(0,5))\n",
    "# print(np.unique(a))\n",
    "# a = np.array([[1, 2], [3, 4]], float)\n",
    "# print(a.diagonal())\n",
    "# print(np.where(a.flat(a[0] >0,1/a[1])))\n",
    "# print(a >=2)\n",
    "# a = np.array([[0, 1], [2, 3]], float) \n",
    "# b = np.array([0, 0, 1], int)\n",
    "# print(a.take(b,axis=0))\n",
    "# a = np.array([0, 1, 2, 3, 4, 5], float) \n",
    "# b = np.array([9, 8, 7], float)\n",
    "# a.put([0,3], b) ; print(a)\n",
    "# a = np.array([3, 4, 5], float) \n",
    "# b = np.array([9, 8, 7], float)\n",
    "# print(np.dot(a,b)) # matrix multiplication \n",
    "\n",
    "a = np.array([1, 4, 0], float) \n",
    "b = np.array([2, 2, 1], float)\n",
    "print(np.outer(a,b))\n",
    "print(np.inner(a,b))\n",
    "print(np.cross(a,b))\n",
    "\n"
   ]
  },
  {
   "cell_type": "code",
   "execution_count": 10,
   "metadata": {},
   "outputs": [
    {
     "name": "stdout",
     "output_type": "stream",
     "text": [
      "[10.         11.11111111 12.22222222 13.33333333 14.44444444 15.55555556\n",
      " 16.66666667 17.77777778 18.88888889 20.        ]\n",
      "[ 10.          17.7827941   31.6227766   56.23413252 100.        ]\n"
     ]
    }
   ],
   "source": [
    "import numpy as np \n",
    "# print(np.random.rand(2,3))\n",
    "# print(np.random.random(6))\n",
    "# print(np.random.randint(5,10))\n",
    "x = np.linspace(10,20,10) # evenly distributed data \n",
    "print(x)\n",
    "#print(x) \n",
    "print(np.logspace(1.0,2.0, num=5))\n"
   ]
  },
  {
   "cell_type": "code",
   "execution_count": null,
   "metadata": {},
   "outputs": [],
   "source": []
  },
  {
   "cell_type": "code",
   "execution_count": null,
   "metadata": {},
   "outputs": [],
   "source": []
  }
 ],
 "metadata": {
  "kernelspec": {
   "display_name": "Python 3",
   "language": "python",
   "name": "python3"
  },
  "language_info": {
   "codemirror_mode": {
    "name": "ipython",
    "version": 3
   },
   "file_extension": ".py",
   "mimetype": "text/x-python",
   "name": "python",
   "nbconvert_exporter": "python",
   "pygments_lexer": "ipython3",
   "version": "3.6.4"
  }
 },
 "nbformat": 4,
 "nbformat_minor": 2
}
