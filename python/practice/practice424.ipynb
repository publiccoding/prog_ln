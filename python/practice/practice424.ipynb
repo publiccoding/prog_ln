{
 "cells": [
  {
   "cell_type": "code",
   "execution_count": null,
   "metadata": {},
   "outputs": [],
   "source": []
  },
  {
   "cell_type": "code",
   "execution_count": null,
   "metadata": {},
   "outputs": [],
   "source": []
  },
  {
   "cell_type": "code",
   "execution_count": 23,
   "metadata": {},
   "outputs": [
    {
     "name": "stdout",
     "output_type": "stream",
     "text": [
      "[[2 3 1]\n",
      " [4 5 9]\n",
      " [6 7 0]]\n",
      "[[2 3 0]\n",
      " [4 5 1]\n",
      " [6 7 9]]\n",
      "[[1 2 3]\n",
      " [4 5 9]\n",
      " [0 6 7]]\n",
      "[[1 2 3]\n",
      " [4 5 9]\n",
      " [0 6 7]]\n",
      "[[-3 -2 -1]\n",
      " [-9 -5 -4]\n",
      " [-7 -6  0]]\n",
      "[[3 2 1]\n",
      " [9 5 4]\n",
      " [7 6 0]]\n"
     ]
    }
   ],
   "source": [
    "#matrix \n",
    "from numpy import *\n",
    "\n",
    "str1 = \"2 3 1;4 5 9;6 7 0\"\n",
    "mat = np.matrix(str1)\n",
    "print(mat)\n",
    "d = np.diagonal(mat)\n",
    "# print(d)\n",
    "# print(mat.sum())\n",
    "# print(d.min())\n",
    "# print(d.max())\n",
    "# print(matrix(arange(12).reshape(3,4)))\n",
    "# print(type(d))\n",
    "# print(mat.prod(0))\n",
    "# print(mat.prod(1))\n",
    "#print(sort(mat))\n",
    "print(sort(mat,axis=0))\n",
    "print(sort(mat,axis=1))\n",
    "print(sort(mat))\n",
    "print(sort(-mat))\n",
    "print(-sort(-mat))"
   ]
  },
  {
   "cell_type": "code",
   "execution_count": null,
   "metadata": {},
   "outputs": [],
   "source": []
  },
  {
   "cell_type": "code",
   "execution_count": null,
   "metadata": {},
   "outputs": [],
   "source": []
  },
  {
   "cell_type": "code",
   "execution_count": null,
   "metadata": {},
   "outputs": [],
   "source": []
  }
 ],
 "metadata": {
  "kernelspec": {
   "display_name": "Python 3",
   "language": "python",
   "name": "python3"
  },
  "language_info": {
   "codemirror_mode": {
    "name": "ipython",
    "version": 3
   },
   "file_extension": ".py",
   "mimetype": "text/x-python",
   "name": "python",
   "nbconvert_exporter": "python",
   "pygments_lexer": "ipython3",
   "version": "3.6.4"
  }
 },
 "nbformat": 4,
 "nbformat_minor": 2
}
