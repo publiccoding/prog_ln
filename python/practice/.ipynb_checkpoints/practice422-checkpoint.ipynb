{
 "cells": [
  {
   "cell_type": "code",
   "execution_count": 35,
   "metadata": {},
   "outputs": [
    {
     "name": "stdout",
     "output_type": "stream",
     "text": [
      "10\n",
      "16\n",
      "True\n"
     ]
    }
   ],
   "source": [
    "class Car:\n",
    "    def __init__(self,name=None,owner=None):\n",
    "        self.name = name\n",
    "        self.owner = owner \n",
    "        \n",
    "    def __nonzero__(self):\n",
    "        print(self.name)        \n",
    "        if bool(self.name) is False :\n",
    "            self.name = 0\n",
    "            self.owner = 0\n",
    "        else:\n",
    "            self.name = 1\n",
    "            self.owner = 1\n",
    "        \n",
    "    \n",
    "    def __len__(self):\n",
    "        return len(self.name + self.owner)\n",
    "\n",
    "        \n",
    "c1 = Car(\"Maruthi\",\"Sam\")\n",
    "c2 = Car('audi','thimmaarayan')\n",
    "print(len(c1))\n",
    "print(len(c2))\n",
    "\n",
    "if c1:\n",
    "    print(\"True\")\n",
    "\n",
    "    \n",
    "    \n",
    "    "
   ]
  },
  {
   "cell_type": "code",
   "execution_count": 19,
   "metadata": {},
   "outputs": [
    {
     "name": "stdout",
     "output_type": "stream",
     "text": [
      "thimma Employed\n",
      "lakshmi Employed\n",
      "Kumar Employed\n",
      "<class '__main__.Staff'>\n"
     ]
    }
   ],
   "source": [
    "class Staff:\n",
    "    def __init__(self,company=\"ABC Inc\"):\n",
    "        self.company= company\n",
    "        self.members = []\n",
    "    def employ(self, member):\n",
    "        self.members.append(member)\n",
    "        print(member,\"Employed\")\n",
    "    def list_(self):\n",
    "        print(\"Employee List is \")\n",
    "        for member in self.members: print(member, end=' ')\n",
    "            \n",
    "    def __iter__(self):\n",
    "        return StaffIterator(self)\n",
    "    \n",
    "class StaffIterator:\n",
    "    def __init__(self,iterable):\n",
    "        \n",
    "        self.iterable = iterable\n",
    "        self.i = 0\n",
    "    def next(self):\n",
    "        if len(self.iterable) <= self.i: raise StopIteration\n",
    "        \n",
    "        v = self.iterable.members[self.i]\n",
    "        self.i +=1\n",
    "        return v \n",
    "        \n",
    "       \n",
    "s = Staff(\"EMC Corporation\")\n",
    "s1 = Staff(\"ABC Corporation\")\n",
    "s2 = Staff(\"DELL Corporation\")\n",
    "s3 = Staff(\"MICRO Corporation\")\n",
    "s.employ(\"thimma\")\n",
    "s.employ(\"lakshmi\")\n",
    "s.employ(\"Kumar\")\n",
    "\n",
    "print(type(s))"
   ]
  },
  {
   "cell_type": "code",
   "execution_count": null,
   "metadata": {},
   "outputs": [],
   "source": [
    "class myiter:\n",
    "    \n",
    "    def __init__(self,member):\n",
    "        self.member = member\n",
    "    \n",
    "    def __iter__(self):\n",
    "        return self\n",
    "    \n",
    "    def __next__(self):\n",
    "        return self.member\n",
    "    \n",
    "    \n",
    "myit = myiter(\"thimma\")\n",
    "\n",
    "print(myit)\n",
    "for i in myit:\n",
    "    print(i)\n",
    "\n",
    "\n",
    "    "
   ]
  },
  {
   "cell_type": "code",
   "execution_count": 27,
   "metadata": {},
   "outputs": [
    {
     "name": "stdout",
     "output_type": "stream",
     "text": [
      "False\n"
     ]
    }
   ],
   "source": [
    "name=None\n",
    "print(bool(name))\n"
   ]
  },
  {
   "cell_type": "code",
   "execution_count": 15,
   "metadata": {},
   "outputs": [
    {
     "name": "stdout",
     "output_type": "stream",
     "text": [
      "<__main__.Accumulator object at 0x00000000058E8588>\n",
      "30\n"
     ]
    }
   ],
   "source": [
    "class Accumulator:\n",
    "    \n",
    "    def __init__(self):\n",
    "        self.val = 0\n",
    "    def __call__(self, v=None):\n",
    "        if v:\n",
    "            self.val += v\n",
    "        else:\n",
    "            return self.val \n",
    "acc = Accumulator()\n",
    "\n",
    "print(acc)\n",
    "acc(10)\n",
    "acc(20)\n",
    "print(acc())\n"
   ]
  },
  {
   "cell_type": "code",
   "execution_count": 7,
   "metadata": {},
   "outputs": [
    {
     "name": "stdout",
     "output_type": "stream",
     "text": [
      "1000\n"
     ]
    },
    {
     "ename": "NameError",
     "evalue": "name 'read_only' is not defined",
     "output_type": "error",
     "traceback": [
      "\u001b[1;31m---------------------------------------------------------------------------\u001b[0m",
      "\u001b[1;31mNameError\u001b[0m                                 Traceback (most recent call last)",
      "\u001b[1;32m<ipython-input-7-c10f0cfef990>\u001b[0m in \u001b[0;36m<module>\u001b[1;34m()\u001b[0m\n\u001b[0;32m     34\u001b[0m \u001b[1;33m\u001b[0m\u001b[0m\n\u001b[0;32m     35\u001b[0m \u001b[0mprint\u001b[0m\u001b[1;33m(\u001b[0m\u001b[0mc\u001b[0m\u001b[1;33m.\u001b[0m\u001b[0mprice\u001b[0m\u001b[1;33m)\u001b[0m\u001b[1;33m\u001b[0m\u001b[0m\n\u001b[1;32m---> 36\u001b[1;33m \u001b[0mc\u001b[0m\u001b[1;33m.\u001b[0m\u001b[0mprice\u001b[0m \u001b[1;33m=\u001b[0m \u001b[1;36m500000\u001b[0m\u001b[1;33m\u001b[0m\u001b[0m\n\u001b[0m\u001b[0;32m     37\u001b[0m \u001b[1;33m\u001b[0m\u001b[0m\n",
      "\u001b[1;32m<ipython-input-7-c10f0cfef990>\u001b[0m in \u001b[0;36m__setattr__\u001b[1;34m(self, name, value)\u001b[0m\n\u001b[0;32m     11\u001b[0m \u001b[1;33m\u001b[0m\u001b[0m\n\u001b[0;32m     12\u001b[0m     \u001b[1;32mdef\u001b[0m \u001b[0m__setattr__\u001b[0m\u001b[1;33m(\u001b[0m\u001b[0mself\u001b[0m\u001b[1;33m,\u001b[0m \u001b[0mname\u001b[0m\u001b[1;33m,\u001b[0m \u001b[0mvalue\u001b[0m\u001b[1;33m)\u001b[0m\u001b[1;33m:\u001b[0m\u001b[1;33m\u001b[0m\u001b[0m\n\u001b[1;32m---> 13\u001b[1;33m         \u001b[1;32mif\u001b[0m \u001b[0mname\u001b[0m \u001b[1;32min\u001b[0m \u001b[0mread_only\u001b[0m\u001b[1;33m:\u001b[0m\u001b[1;32mraise\u001b[0m \u001b[0mAttributeError\u001b[0m\u001b[1;33m\u001b[0m\u001b[0m\n\u001b[0m\u001b[0;32m     14\u001b[0m         \u001b[0mcar_data\u001b[0m\u001b[1;33m[\u001b[0m\u001b[0mid\u001b[0m\u001b[1;33m(\u001b[0m\u001b[0mself\u001b[0m\u001b[1;33m)\u001b[0m\u001b[1;33m]\u001b[0m\u001b[1;33m[\u001b[0m\u001b[0mname\u001b[0m\u001b[1;33m]\u001b[0m \u001b[1;33m=\u001b[0m \u001b[0mvalue\u001b[0m\u001b[1;33m\u001b[0m\u001b[0m\n\u001b[0;32m     15\u001b[0m \u001b[1;33m\u001b[0m\u001b[0m\n",
      "\u001b[1;31mNameError\u001b[0m: name 'read_only' is not defined"
     ]
    }
   ],
   "source": [
    "car_data = {}\n",
    "\n",
    "class Car:\n",
    "    read_only = [\"price\"]\n",
    "    def __init__(self):\n",
    "        car_data[id(self)] ={}\n",
    "        car_data[id(self)][\"price\"] = 1000\n",
    "        \n",
    "    def drive(self):\n",
    "        print(self.owner +\" is driveing car \" + self.name)\n",
    "        \n",
    "    def __setattr__(self, name, value):\n",
    "        if name in read_only:raise AttributeError \n",
    "        car_data[id(self)][name] = value\n",
    "        \n",
    "    def __getattr__(self,name):\n",
    "        return car_data[id(self)][name]\n",
    "  \n",
    "\n",
    "c = Car()\n",
    "# c.name=\"toyota\"\n",
    "# c.color=\"Red\"\n",
    "# c.owner ='Lakshmi'\n",
    "\n",
    "# c1 = Car()\n",
    "# c1.name=\"toyota\"\n",
    "# c1.color=\"White\"\n",
    "# c1.owner ='thimma'\n",
    "\n",
    "\n",
    "# print(c.owner)\n",
    "# print(c.color)\n",
    "# print(car_data)\n",
    "\n",
    "print(c.price)\n",
    "c.price = 500000\n",
    "\n"
   ]
  },
  {
   "cell_type": "code",
   "execution_count": 31,
   "metadata": {},
   "outputs": [
    {
     "name": "stdout",
     "output_type": "stream",
     "text": [
      "<attribute '__weakref__' of 'Car' objects>\n"
     ]
    },
    {
     "data": {
      "text/plain": [
       "100000"
      ]
     },
     "execution_count": 31,
     "metadata": {},
     "output_type": "execute_result"
    }
   ],
   "source": [
    "class Car:\n",
    "    price = 100000\n",
    "\n",
    "c = Car()\n",
    "c.name = \"honda\"\n",
    "c.color = \"Red\"\n",
    "c.owner=\"thimma\"\n",
    "c.__dict__\n",
    "Car.__dict__\n",
    "print(Car.__weakref__)\n",
    "c.price\n",
    "c.__dict__['name']\n",
    "c.__dict__['color']\n",
    "c.__dict__['owner']\n",
    "getattr(c,'price')\n",
    "#Car.__dict__[\"price\"]\n",
    "#c.__dict__['price']"
   ]
  },
  {
   "cell_type": "code",
   "execution_count": null,
   "metadata": {},
   "outputs": [],
   "source": []
  },
  {
   "cell_type": "code",
   "execution_count": null,
   "metadata": {},
   "outputs": [],
   "source": []
  }
 ],
 "metadata": {
  "kernelspec": {
   "display_name": "Python 3",
   "language": "python",
   "name": "python3"
  },
  "language_info": {
   "codemirror_mode": {
    "name": "ipython",
    "version": 3
   },
   "file_extension": ".py",
   "mimetype": "text/x-python",
   "name": "python",
   "nbconvert_exporter": "python",
   "pygments_lexer": "ipython3",
   "version": "3.6.4"
  }
 },
 "nbformat": 4,
 "nbformat_minor": 2
}
