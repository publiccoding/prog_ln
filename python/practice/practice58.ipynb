{
 "cells": [
  {
   "cell_type": "code",
   "execution_count": 48,
   "metadata": {},
   "outputs": [
    {
     "name": "stdout",
     "output_type": "stream",
     "text": [
      "Ending with 8 numbers are  [1700, 1709, 1718, 1727, 1736, 1745, 1754, 1763, 1772, 1781, 1790, 1799, 1808, 1817, 1826, 1835, 1844, 1853, 1862, 1871, 1880, 1889, 1898, 1907, 1916, 1925, 1934, 1943]\n",
      "Ending with 9 numbers are  [1701, 1710, 1719, 1728, 1737, 1746, 1755, 1764, 1773, 1782, 1791, 1800, 1809, 1818, 1827, 1836, 1845, 1854, 1863, 1872, 1881, 1890, 1899, 1908, 1917, 1926, 1935, 1944]\n",
      "Ending with 1 numbers are  [1702, 1711, 1720, 1729, 1738, 1747, 1756, 1765, 1774, 1783, 1792, 1801, 1810, 1819, 1828, 1837, 1846, 1855, 1864, 1873, 1882, 1891, 1900, 1909, 1918, 1927, 1936, 1945]\n",
      "Ending with 2 numbers are  [1703, 1712, 1721, 1730, 1739, 1748, 1757, 1766, 1775, 1784, 1793, 1802, 1811, 1820, 1829, 1838, 1847, 1856, 1865, 1874, 1883, 1892, 1901, 1910, 1919, 1928, 1937, 1946]\n",
      "Ending with 3 numbers are  [1704, 1713, 1722, 1731, 1740, 1749, 1758, 1767, 1776, 1785, 1794, 1803, 1812, 1821, 1830, 1839, 1848, 1857, 1866, 1875, 1884, 1893, 1902, 1911, 1920, 1929, 1938, 1947]\n",
      "Ending with 4 numbers are  [1705, 1714, 1723, 1732, 1741, 1750, 1759, 1768, 1777, 1786, 1795, 1804, 1813, 1822, 1831, 1840, 1849, 1858, 1867, 1876, 1885, 1894, 1903, 1912, 1921, 1930, 1939, 1948]\n",
      "Ending with 5 numbers are  [1706, 1715, 1724, 1733, 1742, 1751, 1760, 1769, 1778, 1787, 1796, 1805, 1814, 1823, 1832, 1841, 1850, 1859, 1868, 1877, 1886, 1895, 1904, 1913, 1922, 1931, 1940, 1949]\n",
      "Ending with 6 numbers are  [1707, 1716, 1725, 1734, 1743, 1752, 1761, 1770, 1779, 1788, 1797, 1806, 1815, 1824, 1833, 1842, 1851, 1860, 1869, 1878, 1887, 1896, 1905, 1914, 1923, 1932, 1941, 1950]\n",
      "Ending with 7 numbers are  [1708, 1717, 1726, 1735, 1744, 1753, 1762, 1771, 1780, 1789, 1798, 1807, 1816, 1825, 1834, 1843, 1852, 1861, 1870, 1879, 1888, 1897, 1906, 1915, 1924, 1933, 1942]\n",
      "count of the value is \n",
      " Counter({8: 28, 9: 28, 1: 28, 2: 28, 3: 28, 4: 28, 5: 28, 6: 28, 7: 27})\n"
     ]
    }
   ],
   "source": [
    "from collections import defaultdict,Counter\n",
    "def numfind(n,m):\n",
    "    dict = defaultdict(list)\n",
    "    cnt=Counter()\n",
    "    for var in range(n,m+1):  \n",
    "        orig=var        \n",
    "        def recursive(var):\n",
    "            var= list(str(var))\n",
    "            val = 0\n",
    "            for i in var:\n",
    "                val +=int(i)\n",
    "            if val > 9:\n",
    "                recursive(val)\n",
    "            else:\n",
    "                dict[val].append(orig)\n",
    "                cnt[val] +=1\n",
    "                \n",
    "        recursive(var)\n",
    "    for k, v in dict.items():\n",
    "        print('Ending with',k,'numbers are ',v)\n",
    "    print('count of the value is \\n',cnt)\n",
    "        \n",
    "    \n",
    "numfind(1700,1950)\n",
    "        \n",
    "    "
   ]
  },
  {
   "cell_type": "code",
   "execution_count": null,
   "metadata": {},
   "outputs": [],
   "source": []
  },
  {
   "cell_type": "code",
   "execution_count": null,
   "metadata": {},
   "outputs": [],
   "source": []
  },
  {
   "cell_type": "code",
   "execution_count": null,
   "metadata": {},
   "outputs": [],
   "source": []
  }
 ],
 "metadata": {
  "kernelspec": {
   "display_name": "Python 3",
   "language": "python",
   "name": "python3"
  },
  "language_info": {
   "codemirror_mode": {
    "name": "ipython",
    "version": 3
   },
   "file_extension": ".py",
   "mimetype": "text/x-python",
   "name": "python",
   "nbconvert_exporter": "python",
   "pygments_lexer": "ipython3",
   "version": "3.6.4"
  }
 },
 "nbformat": 4,
 "nbformat_minor": 2
}
